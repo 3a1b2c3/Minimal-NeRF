{
 "cells": [
  {
   "cell_type": "code",
   "execution_count": null,
   "id": "1024667e",
   "metadata": {},
   "outputs": [],
   "source": [
    "import sys \n",
    "sys.path.append(\"../\")\n",
    "\n",
    "import nerf_model\n",
    "import dataloader\n",
    "import nerf_helpers\n",
    "\n",
    "import cv2\n",
    "from PIL import Image\n",
    "\n",
    "import gc \n",
    "import torch \n",
    "import itertools \n",
    "import numpy as np\n",
    "\n",
    "import plotly.express as px\n",
    "import plotly.graph_objects as go\n",
    "from plotly.subplots import make_subplots"
   ]
  },
  {
   "cell_type": "code",
   "execution_count": null,
   "id": "fa7a63d7",
   "metadata": {
    "scrolled": true
   },
   "outputs": [],
   "source": [
    "base_dir = '../data/toy_data/'\n",
    "sdl = dataloader.getSyntheticDataloader(base_dir, 'val', 4096, num_workers=1, shuffle=True)\n",
    "\n",
    "batch = next(iter(sdl))\n",
    "print(batch.keys())\n",
    "print(batch['rgba'].shape)\n",
    "print(batch['origin'].shape)\n",
    "print(batch['direc'].shape)\n",
    "print(batch['xs'].shape)\n"
   ]
  },
  {
   "cell_type": "code",
   "execution_count": null,
   "id": "19386efa",
   "metadata": {},
   "outputs": [],
   "source": [
    "print(batch['all_origin'].shape)"
   ]
  },
  {
   "cell_type": "code",
   "execution_count": null,
   "id": "af9f840f",
   "metadata": {},
   "outputs": [],
   "source": [
    "from importlib import reload\n",
    "dataloader = reload(dataloader)\n",
    "nerf_model = reload(nerf_model)\n",
    "nerf_helpers = reload(nerf_helpers)\n",
    "gc.collect()"
   ]
  },
  {
   "cell_type": "code",
   "execution_count": null,
   "id": "66314775",
   "metadata": {},
   "outputs": [],
   "source": [
    "network = nerf_model.NeRFNetwork(position_dim=10, direction_dim=4, coarse_samples=64,\n",
    "                 fine_samples=128)\n",
    "network.validation_step(batch, 0)"
   ]
  },
  {
   "cell_type": "code",
   "execution_count": null,
   "id": "05a371fc",
   "metadata": {},
   "outputs": [],
   "source": []
  }
 ],
 "metadata": {
  "kernelspec": {
   "display_name": "Python 3",
   "language": "python",
   "name": "python3"
  },
  "language_info": {
   "codemirror_mode": {
    "name": "ipython",
    "version": 3
   },
   "file_extension": ".py",
   "mimetype": "text/x-python",
   "name": "python",
   "nbconvert_exporter": "python",
   "pygments_lexer": "ipython3",
   "version": "3.8.8"
  }
 },
 "nbformat": 4,
 "nbformat_minor": 5
}
