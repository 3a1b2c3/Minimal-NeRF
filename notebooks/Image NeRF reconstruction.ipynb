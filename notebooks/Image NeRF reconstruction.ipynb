{
 "cells": [
  {
   "cell_type": "code",
   "execution_count": 7,
   "id": "31f306b7",
   "metadata": {},
   "outputs": [],
   "source": [
    "import sys \n",
    "sys.path.append(\"../\")\n",
    "\n",
    "import torch \n",
    "import utils \n",
    "import nerf_model"
   ]
  },
  {
   "cell_type": "code",
   "execution_count": 12,
   "id": "f5e3d9b2",
   "metadata": {},
   "outputs": [
    {
     "name": "stdout",
     "output_type": "stream",
     "text": [
      "tensor([[0., 0.],\n",
      "        [0., 1.],\n",
      "        [0., 2.],\n",
      "        [0., 3.],\n",
      "        [0., 4.],\n",
      "        [1., 0.],\n",
      "        [1., 1.],\n",
      "        [1., 2.],\n",
      "        [1., 3.],\n",
      "        [1., 4.],\n",
      "        [2., 0.],\n",
      "        [2., 1.],\n",
      "        [2., 2.],\n",
      "        [2., 3.],\n",
      "        [2., 4.],\n",
      "        [3., 0.],\n",
      "        [3., 1.],\n",
      "        [3., 2.],\n",
      "        [3., 3.],\n",
      "        [3., 4.],\n",
      "        [4., 0.],\n",
      "        [4., 1.],\n",
      "        [4., 2.],\n",
      "        [4., 3.],\n",
      "        [4., 4.],\n",
      "        [5., 0.],\n",
      "        [5., 1.],\n",
      "        [5., 2.],\n",
      "        [5., 3.],\n",
      "        [5., 4.],\n",
      "        [6., 0.],\n",
      "        [6., 1.],\n",
      "        [6., 2.],\n",
      "        [6., 3.],\n",
      "        [6., 4.],\n",
      "        [7., 0.],\n",
      "        [7., 1.],\n",
      "        [7., 2.],\n",
      "        [7., 3.],\n",
      "        [7., 4.],\n",
      "        [8., 0.],\n",
      "        [8., 1.],\n",
      "        [8., 2.],\n",
      "        [8., 3.],\n",
      "        [8., 4.],\n",
      "        [9., 0.],\n",
      "        [9., 1.],\n",
      "        [9., 2.],\n",
      "        [9., 3.],\n",
      "        [9., 4.]])\n"
     ]
    }
   ],
   "source": [
    "import itertools \n",
    "import numpy as np\n",
    "\n",
    "im_w = 5\n",
    "im_h = 10 \n",
    "idxs = [(i,j) for i,j in itertools.product(np.arange(0,im_h), np.arange(0,im_w))]\n",
    "idxs = torch.FloatTensor(idxs)\n",
    "print(idxs)\n",
    "# print(idxs.shape)\n"
   ]
  },
  {
   "cell_type": "code",
   "execution_count": 16,
   "id": "26e9ec8d",
   "metadata": {},
   "outputs": [
    {
     "name": "stdout",
     "output_type": "stream",
     "text": [
      "torch.Size([400, 500, 3])\n"
     ]
    }
   ],
   "source": [
    "def photo_nerf_to_image(model, im_h, im_w): \n",
    "    idxs = [(i,j) for i,j in itertools.product(np.arange(0,im_h), np.arange(0,im_w))]\n",
    "    idxs = torch.FloatTensor(idxs)\n",
    "    N, _ = idxs.shape\n",
    "    recon = []\n",
    "    step = 4096\n",
    "    for i in range(0, N, step):\n",
    "        # break up whole tensor into sizeable chunks\n",
    "        batch = idxs[i:i+step,:]\n",
    "        rgb = model(batch)\n",
    "        recon.append(rgb)\n",
    "    recon = torch.cat(recon, axis=0).reshape((im_h, im_w, 3))\n",
    "    return recon\n",
    "\n",
    "model = nerf_model.ImageNeRFModel()\n",
    "recon = photo_nerf_to_image(model, 400, 500)\n",
    "print(recon.shape)"
   ]
  }
 ],
 "metadata": {
  "kernelspec": {
   "display_name": "Python 3",
   "language": "python",
   "name": "python3"
  },
  "language_info": {
   "codemirror_mode": {
    "name": "ipython",
    "version": 3
   },
   "file_extension": ".py",
   "mimetype": "text/x-python",
   "name": "python",
   "nbconvert_exporter": "python",
   "pygments_lexer": "ipython3",
   "version": "3.8.8"
  }
 },
 "nbformat": 4,
 "nbformat_minor": 5
}
