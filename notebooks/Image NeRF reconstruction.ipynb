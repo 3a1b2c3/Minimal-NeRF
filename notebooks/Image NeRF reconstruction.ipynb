{
 "cells": [
  {
   "cell_type": "code",
   "execution_count": 4,
   "id": "31f306b7",
   "metadata": {},
   "outputs": [],
   "source": [
    "import sys \n",
    "sys.path.append(\"../\")\n",
    "\n",
    "import nerf_model\n",
    "import dataloader\n",
    "\n",
    "import torch \n",
    "import cv2\n",
    "from PIL import Image\n",
    "import itertools \n",
    "import numpy as np"
   ]
  },
  {
   "cell_type": "code",
   "execution_count": null,
   "id": "f5e3d9b2",
   "metadata": {},
   "outputs": [],
   "source": [
    "im_h = 5\n",
    "im_w = 5\n",
    "idxs = [(i,j) for i,j in itertools.product(np.arange(0,im_h), np.arange(0,im_w))]\n",
    "idxs = torch.FloatTensor(idxs)\n",
    "# print(idxs)\n",
    "# print(idxs.shape)"
   ]
  },
  {
   "cell_type": "code",
   "execution_count": null,
   "id": "26e9ec8d",
   "metadata": {},
   "outputs": [],
   "source": [
    "def photo_nerf_to_image(model, im_h, im_w): \n",
    "    idxs = [(i,j) for i,j in itertools.product(np.arange(0,im_h), np.arange(0,im_w))]\n",
    "    idxs = torch.FloatTensor(idxs)\n",
    "    N, _ = idxs.shape\n",
    "    recon = []\n",
    "    step = 4096\n",
    "    for i in range(0, N, step):\n",
    "        # break up whole tensor into sizeable chunks\n",
    "        batch = idxs[i:i+step,:]\n",
    "        rgb = model(batch)\n",
    "        recon.append(rgb)\n",
    "    recon = torch.cat(recon, axis=0).reshape((im_h, im_w, 3))\n",
    "    return recon\n",
    "\n",
    "model = nerf_model.ImageNeRFModel()\n",
    "recon = photo_nerf_to_image(model, 400, 500)\n",
    "print(recon.shape)"
   ]
  },
  {
   "cell_type": "code",
   "execution_count": 5,
   "id": "d8702e69",
   "metadata": {},
   "outputs": [
    {
     "name": "stdout",
     "output_type": "stream",
     "text": [
      "(403, 538, 3)\n",
      "(403, 538, 3)\n"
     ]
    }
   ],
   "source": [
    "im_path = '../tests/test_data/grad_lounge.png'\n",
    "bgr = cv2.imread(im_path, 1)\n",
    "cv2_im = cv2.cvtColor(cv2.imread(im_path, 1), cv2.COLOR_BGR2RGB)\n",
    "print(cv2_im.shape)\n",
    "\n",
    "pil_im = np.array(Image.open(im_path))\n",
    "print(pil_im.shape)"
   ]
  },
  {
   "cell_type": "code",
   "execution_count": 6,
   "id": "3c706dad",
   "metadata": {},
   "outputs": [],
   "source": [
    "np.testing.assert_allclose(cv2_im, pil_im)"
   ]
  },
  {
   "cell_type": "code",
   "execution_count": 7,
   "id": "aaf7c95b",
   "metadata": {},
   "outputs": [
    {
     "name": "stdout",
     "output_type": "stream",
     "text": [
      "[237 139  61]\n",
      "[ 61 139 237]\n"
     ]
    }
   ],
   "source": [
    "print(bgr[0,0,:])\n",
    "print(pil_im[0,0,:])"
   ]
  },
  {
   "cell_type": "code",
   "execution_count": 8,
   "id": "634aecf9",
   "metadata": {},
   "outputs": [
    {
     "name": "stdout",
     "output_type": "stream",
     "text": [
      "uint8\n",
      "uint8\n"
     ]
    }
   ],
   "source": [
    "print(pil_im.dtype)\n",
    "print(bgr.dtype)"
   ]
  },
  {
   "cell_type": "code",
   "execution_count": 9,
   "id": "5f58c3b0",
   "metadata": {},
   "outputs": [
    {
     "data": {
      "text/plain": [
       "(tensor([0., 0.]), tensor([ 1.9407,  0.3978, -0.7413]))"
      ]
     },
     "execution_count": 9,
     "metadata": {},
     "output_type": "execute_result"
    }
   ],
   "source": [
    "ds = dataloader.PhotoDataset(im_path)\n",
    "ds[0]"
   ]
  },
  {
   "cell_type": "code",
   "execution_count": null,
   "id": "ff732d9d",
   "metadata": {},
   "outputs": [],
   "source": []
  }
 ],
 "metadata": {
  "kernelspec": {
   "display_name": "Python 3",
   "language": "python",
   "name": "python3"
  },
  "language_info": {
   "codemirror_mode": {
    "name": "ipython",
    "version": 3
   },
   "file_extension": ".py",
   "mimetype": "text/x-python",
   "name": "python",
   "nbconvert_exporter": "python",
   "pygments_lexer": "ipython3",
   "version": "3.8.8"
  }
 },
 "nbformat": 4,
 "nbformat_minor": 5
}
