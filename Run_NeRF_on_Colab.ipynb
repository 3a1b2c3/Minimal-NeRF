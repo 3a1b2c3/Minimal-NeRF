{
  "cells": [
    {
      "cell_type": "code",
      "execution_count": null,
      "metadata": {
        "colab": {
          "base_uri": "https://localhost:8080/"
        },
        "id": "uUQpFunsw-Sb",
        "outputId": "a58347c2-368e-4e76-8193-d4e1ecde0201"
      },
      "outputs": [
        {
          "name": "stdout",
          "output_type": "stream",
          "text": [
            "Wed Mar 30 18:21:52 2022       \n",
            "+-----------------------------------------------------------------------------+\n",
            "| NVIDIA-SMI 460.32.03    Driver Version: 460.32.03    CUDA Version: 11.2     |\n",
            "|-------------------------------+----------------------+----------------------+\n",
            "| GPU  Name        Persistence-M| Bus-Id        Disp.A | Volatile Uncorr. ECC |\n",
            "| Fan  Temp  Perf  Pwr:Usage/Cap|         Memory-Usage | GPU-Util  Compute M. |\n",
            "|                               |                      |               MIG M. |\n",
            "|===============================+======================+======================|\n",
            "|   0  Tesla P100-PCIE...  Off  | 00000000:00:04.0 Off |                    0 |\n",
            "| N/A   35C    P0    27W / 250W |      0MiB / 16280MiB |      0%      Default |\n",
            "|                               |                      |                  N/A |\n",
            "+-------------------------------+----------------------+----------------------+\n",
            "                                                                               \n",
            "+-----------------------------------------------------------------------------+\n",
            "| Processes:                                                                  |\n",
            "|  GPU   GI   CI        PID   Type   Process name                  GPU Memory |\n",
            "|        ID   ID                                                   Usage      |\n",
            "|=============================================================================|\n",
            "|  No running processes found                                                 |\n",
            "+-----------------------------------------------------------------------------+\n"
          ]
        }
      ],
      "source": [
        "!nvidia-smi"
      ]
    },
    {
      "cell_type": "code",
      "execution_count": null,
      "metadata": {
        "id": "oD-7Zdx-yH7v"
      },
      "outputs": [],
      "source": [
        "# mount gdrive. NOTE: not strictly necessary.\n",
        "from google.colab import drive\n",
        "drive.mount('/content/drive', force_remount=True)\n",
        "\n",
        "# clone repository\n",
        "!git clone https://github.com/NakuraMino/CSEP573-NeRF.git\n",
        "%cd CSEP573-NeRF/\n",
        "\n",
        "# install libraries not on colab default\n",
        "!pip install -r requirements.txt\n",
        "\n",
        "# download dataset\n",
        "!chmod 777 download_synthetic_data.sh\n",
        "!./download_synthetic_data.sh lego"
      ]
    },
    {
      "cell_type": "code",
      "execution_count": null,
      "metadata": {
        "colab": {
          "background_save": true
        },
        "id": "a-ZjQq0Qze5E"
      },
      "outputs": [],
      "source": [
        "# train NeRF model\n",
        "!python train_nerf.py -n lego_nerf --gpu -s 1000000 -rd ROOT_DIR \\\n",
        "                      -r 4096 full -b '/content/CSEP573-NeRF/data/nerf_synthetic/lego/' -cr 2000"
      ]
    },
    {
      "cell_type": "code",
      "execution_count": null,
      "metadata": {
        "id": "W3-yZLJv0ma4"
      },
      "outputs": [],
      "source": [
        "# render 360 view gif.\n",
        "!python render.py -c CKPT_PATH -r 2000 -s SAVE_DIR"
      ]
    },
    {
      "cell_type": "code",
      "source": [
        "# calculate SSIM and PSNR score.\n",
        "!python score.py -r 2000 -c CKPT_PATH"
      ],
      "metadata": {
        "id": "kJrW3D_8XtJ6"
      },
      "execution_count": null,
      "outputs": []
    }
  ],
  "metadata": {
    "accelerator": "GPU",
    "colab": {
      "background_execution": "on",
      "collapsed_sections": [],
      "name": "Run NeRF on Colab.ipynb",
      "provenance": []
    },
    "kernelspec": {
      "display_name": "Python 3",
      "name": "python3"
    },
    "language_info": {
      "name": "python"
    }
  },
  "nbformat": 4,
  "nbformat_minor": 0
}